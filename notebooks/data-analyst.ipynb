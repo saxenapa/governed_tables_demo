{
 "cells": [
  {
   "cell_type": "markdown",
   "id": "23031282",
   "metadata": {},
   "source": [
    "### Initialization"
   ]
  },
  {
   "cell_type": "markdown",
   "id": "897ebded",
   "metadata": {},
   "source": [
    "### This notebook demostrates Lake Formation Governed Tables ACID Transactions behavior in below scenarios:\n",
    "  Scenario A: User A makes changes using T1 and commit transaction. User B queries table using T2 and see changes.<br>\n",
    "  Scenario B: User A makes changes using T3 but does not commit transaction. User B queries using T4 and cannot see the changes.<br>\n",
    "  Scenario C: User A commits transaction T3, User B again queries using T4 but still cannot see the changes since T4 started before T3 is committed.<br>"
   ]
  },
  {
   "cell_type": "code",
   "execution_count": 1,
   "id": "7dfa5d37",
   "metadata": {},
   "outputs": [
    {
     "name": "stdout",
     "output_type": "stream",
     "text": [
      "Starting Spark application\n"
     ]
    },
    {
     "data": {
      "text/html": [
       "<table>\n",
       "<tr><th>ID</th><th>YARN Application ID</th><th>Kind</th><th>State</th><th>Spark UI</th><th>Driver log</th><th>User</th><th>Current session?</th></tr><tr><td>13</td><td>application_1631086109765_0014</td><td>pyspark</td><td>idle</td><td><a target=\"_blank\" href=\"http://ip-172-33-184-22.ec2.internal:20888/proxy/application_1631086109765_0014/\">Link</a></td><td><a target=\"_blank\" href=\"http://ip-172-33-182-9.ec2.internal:8042/node/containerlogs/container_1631086109765_0014_01_000001/livy\">Link</a></td><td>None</td><td>✔</td></tr></table>"
      ],
      "text/plain": [
       "<IPython.core.display.HTML object>"
      ]
     },
     "metadata": {},
     "output_type": "display_data"
    },
    {
     "data": {
      "application/vnd.jupyter.widget-view+json": {
       "model_id": "",
       "version_major": 2,
       "version_minor": 0
      },
      "text/plain": [
       "FloatProgress(value=0.0, bar_style='info', description='Progress:', layout=Layout(height='25px', width='50%'),…"
      ]
     },
     "metadata": {},
     "output_type": "display_data"
    },
    {
     "name": "stdout",
     "output_type": "stream",
     "text": [
      "SparkSession available as 'spark'.\n"
     ]
    },
    {
     "data": {
      "application/vnd.jupyter.widget-view+json": {
       "model_id": "",
       "version_major": 2,
       "version_minor": 0
      },
      "text/plain": [
       "FloatProgress(value=0.0, bar_style='info', description='Progress:', layout=Layout(height='25px', width='50%'),…"
      ]
     },
     "metadata": {},
     "output_type": "display_data"
    }
   ],
   "source": [
    "from pyspark.context import SparkContext\n",
    "from awsglue.context import GlueContext\n",
    "from awsglue.job import Job\n",
    "from pyspark.sql import DataFrame, Row\n",
    "from awsglue.dynamicframe import DynamicFrame\n",
    "from awsglue import DynamicFrame\n",
    "\n",
    "\n",
    "glueContext = GlueContext(SparkContext.getOrCreate())\n",
    "spark = glueContext.spark_session\n",
    "job = Job(glueContext)\n",
    "\n",
    "# Please replace below with your parameters\n",
    "bucket_name = \"lf-workshop-162611428811\"\n",
    "database_name = \"governed_demo\"\n",
    "table_name = \"employee_details\""
   ]
  },
  {
   "cell_type": "markdown",
   "id": "1bc4092f",
   "metadata": {},
   "source": [
    "### Begin Transaction (tcampId1)"
   ]
  },
  {
   "cell_type": "code",
   "execution_count": 2,
   "id": "75bd1bca",
   "metadata": {},
   "outputs": [
    {
     "data": {
      "application/vnd.jupyter.widget-view+json": {
       "model_id": "",
       "version_major": 2,
       "version_minor": 0
      },
      "text/plain": [
       "FloatProgress(value=0.0, bar_style='info', description='Progress:', layout=Layout(height='25px', width='50%'),…"
      ]
     },
     "metadata": {},
     "output_type": "display_data"
    },
    {
     "name": "stdout",
     "output_type": "stream",
     "text": [
      "7bcf6c915e94438ea608b4d209bf2651"
     ]
    }
   ],
   "source": [
    "tcampId1 = glueContext.begin_transaction(read_only=False)\n",
    "print(tcampId1)"
   ]
  },
  {
   "cell_type": "markdown",
   "id": "23632678",
   "metadata": {},
   "source": [
    "### Check initial rows for employees from Denver"
   ]
  },
  {
   "cell_type": "code",
   "execution_count": 3,
   "id": "4aaf0e03",
   "metadata": {},
   "outputs": [
    {
     "data": {
      "application/vnd.jupyter.widget-view+json": {
       "model_id": "",
       "version_major": 2,
       "version_minor": 0
      },
      "text/plain": [
       "FloatProgress(value=0.0, bar_style='info', description='Progress:', layout=Layout(height='25px', width='50%'),…"
      ]
     },
     "metadata": {},
     "output_type": "display_data"
    },
    {
     "name": "stdout",
     "output_type": "stream",
     "text": [
      "+-----------+----------+---------+---+------+------+\n",
      "|employee_id|first_name|last_name|age|  city|salary|\n",
      "+-----------+----------+---------+---+------+------+\n",
      "|       1013|   William|    Moore| 37|Denver|  3998|\n",
      "|       1018| Frederick|   Wilson| 38|Denver|  4500|\n",
      "+-----------+----------+---------+---+------+------+"
     ]
    }
   ],
   "source": [
    "dyf1 = glueContext.create_dynamic_frame.from_catalog(\n",
    "    database = database_name, \n",
    "    table_name = table_name, \n",
    "    transformation_ctx = \"dyf1\", \n",
    "    additional_options = {\n",
    "        \"transactionId\": tcampId1\n",
    "    }\n",
    ")\n",
    "df1 = dyf1.toDF()\n",
    "df11 = df1.select('employee_id','first_name','last_name','age','city','salary')\n",
    "df11.where(\"city == 'Denver'\").show()"
   ]
  },
  {
   "cell_type": "markdown",
   "id": "7ca5f475",
   "metadata": {},
   "source": [
    "### Commit Transaction (tcampId1)"
   ]
  },
  {
   "cell_type": "code",
   "execution_count": 4,
   "id": "5e31c56c",
   "metadata": {},
   "outputs": [
    {
     "data": {
      "application/vnd.jupyter.widget-view+json": {
       "model_id": "",
       "version_major": 2,
       "version_minor": 0
      },
      "text/plain": [
       "FloatProgress(value=0.0, bar_style='info', description='Progress:', layout=Layout(height='25px', width='50%'),…"
      ]
     },
     "metadata": {},
     "output_type": "display_data"
    },
    {
     "name": "stdout",
     "output_type": "stream",
     "text": [
      "JavaObject id=o107"
     ]
    }
   ],
   "source": [
    "glueContext.commit_transaction(tcampId1)"
   ]
  },
  {
   "cell_type": "markdown",
   "id": "5389feee",
   "metadata": {},
   "source": [
    "### Data Analyst begin transaction (tcampId2)"
   ]
  },
  {
   "cell_type": "code",
   "execution_count": 5,
   "id": "8c9ecc26",
   "metadata": {},
   "outputs": [
    {
     "data": {
      "application/vnd.jupyter.widget-view+json": {
       "model_id": "",
       "version_major": 2,
       "version_minor": 0
      },
      "text/plain": [
       "FloatProgress(value=0.0, bar_style='info', description='Progress:', layout=Layout(height='25px', width='50%'),…"
      ]
     },
     "metadata": {},
     "output_type": "display_data"
    },
    {
     "name": "stdout",
     "output_type": "stream",
     "text": [
      "f795b58b491743e19638c38f5f97917c"
     ]
    }
   ],
   "source": [
    "tcampId2 = glueContext.begin_transaction(read_only=False)\n",
    "print(tcampId2)"
   ]
  },
  {
   "cell_type": "markdown",
   "id": "45f6a97f",
   "metadata": {},
   "source": [
    "### Find  employees from Denver after DB Admin commits Transaction (txId1)"
   ]
  },
  {
   "cell_type": "code",
   "execution_count": 6,
   "id": "ded73d68",
   "metadata": {},
   "outputs": [
    {
     "data": {
      "application/vnd.jupyter.widget-view+json": {
       "model_id": "",
       "version_major": 2,
       "version_minor": 0
      },
      "text/plain": [
       "FloatProgress(value=0.0, bar_style='info', description='Progress:', layout=Layout(height='25px', width='50%'),…"
      ]
     },
     "metadata": {},
     "output_type": "display_data"
    },
    {
     "name": "stdout",
     "output_type": "stream",
     "text": [
      "+-----------+----------+---------+---+------+------+\n",
      "|employee_id|first_name|last_name|age|  city|salary|\n",
      "+-----------+----------+---------+---+------+------+\n",
      "|       1013|   William|    Moore| 37|Denver|  3998|\n",
      "|       1018| Frederick|   Wilson| 38|Denver|  4500|\n",
      "|       1022|     Ellis|      Dow| 40|Denver|  4250|\n",
      "+-----------+----------+---------+---+------+------+"
     ]
    }
   ],
   "source": [
    "dyf2 = glueContext.create_dynamic_frame.from_catalog(\n",
    "    database = database_name, \n",
    "    table_name = table_name, \n",
    "    transformation_ctx = \"dyf2\", \n",
    "    additional_options = {\n",
    "        \"transactionId\": tcampId2\n",
    "    }\n",
    ")\n",
    "df2 = dyf2.toDF()\n",
    "df3 = df2.select('employee_id','first_name','last_name','age','city','salary')\n",
    "df3.where(\"city == 'Denver'\").show()"
   ]
  },
  {
   "cell_type": "markdown",
   "id": "80f1f38e",
   "metadata": {},
   "source": [
    "### Data Analyst commit transaction (tcampId2)"
   ]
  },
  {
   "cell_type": "code",
   "execution_count": 7,
   "id": "033156c8",
   "metadata": {},
   "outputs": [
    {
     "data": {
      "application/vnd.jupyter.widget-view+json": {
       "model_id": "",
       "version_major": 2,
       "version_minor": 0
      },
      "text/plain": [
       "FloatProgress(value=0.0, bar_style='info', description='Progress:', layout=Layout(height='25px', width='50%'),…"
      ]
     },
     "metadata": {},
     "output_type": "display_data"
    },
    {
     "name": "stdout",
     "output_type": "stream",
     "text": [
      "JavaObject id=o124"
     ]
    }
   ],
   "source": [
    "glueContext.commit_transaction(tcampId2)"
   ]
  },
  {
   "cell_type": "markdown",
   "id": "6394a705",
   "metadata": {},
   "source": [
    "### Data Analyst begin transaction (tcampId3)"
   ]
  },
  {
   "cell_type": "code",
   "execution_count": 8,
   "id": "a1f8eba1",
   "metadata": {},
   "outputs": [
    {
     "data": {
      "application/vnd.jupyter.widget-view+json": {
       "model_id": "",
       "version_major": 2,
       "version_minor": 0
      },
      "text/plain": [
       "FloatProgress(value=0.0, bar_style='info', description='Progress:', layout=Layout(height='25px', width='50%'),…"
      ]
     },
     "metadata": {},
     "output_type": "display_data"
    },
    {
     "name": "stdout",
     "output_type": "stream",
     "text": [
      "22108a3b3aed4372ae50cde28864a1b7"
     ]
    }
   ],
   "source": [
    "tcampId3 = glueContext.begin_transaction(read_only=False)\n",
    "print(tcampId3)"
   ]
  },
  {
   "cell_type": "markdown",
   "id": "347be5f0",
   "metadata": {},
   "source": [
    "### Find employees from Denver after DB Admin adds rows for new employees but not commit its transaction (txId2)"
   ]
  },
  {
   "cell_type": "code",
   "execution_count": 9,
   "id": "90827eb8",
   "metadata": {},
   "outputs": [
    {
     "data": {
      "application/vnd.jupyter.widget-view+json": {
       "model_id": "",
       "version_major": 2,
       "version_minor": 0
      },
      "text/plain": [
       "FloatProgress(value=0.0, bar_style='info', description='Progress:', layout=Layout(height='25px', width='50%'),…"
      ]
     },
     "metadata": {},
     "output_type": "display_data"
    },
    {
     "name": "stdout",
     "output_type": "stream",
     "text": [
      "+-----------+----------+---------+---+------+------+\n",
      "|employee_id|first_name|last_name|age|  city|salary|\n",
      "+-----------+----------+---------+---+------+------+\n",
      "|       1013|   William|    Moore| 37|Denver|  3998|\n",
      "|       1018| Frederick|   Wilson| 38|Denver|  4500|\n",
      "|       1022|     Ellis|      Dow| 40|Denver|  4250|\n",
      "+-----------+----------+---------+---+------+------+"
     ]
    }
   ],
   "source": [
    "dyf3 = glueContext.create_dynamic_frame.from_catalog(\n",
    "    database = database_name, \n",
    "    table_name = table_name, \n",
    "    transformation_ctx = \"dyf3\", \n",
    "    additional_options = {\n",
    "        \"transactionId\": tcampId3\n",
    "    }\n",
    ")\n",
    "df4 = dyf3.toDF()\n",
    "df5 = df4.select('employee_id','first_name','last_name','age','city','salary')\n",
    "df5.where(\"city == 'Denver'\").show()"
   ]
  },
  {
   "cell_type": "markdown",
   "id": "1d363156",
   "metadata": {},
   "source": [
    "### Find employees from Denver after DB Admin adds rows for new employees and committed its transaction (txId2). But Data Analyst started transaction tcampId2 before txId2 was committed."
   ]
  },
  {
   "cell_type": "code",
   "execution_count": 10,
   "id": "672bb7fb",
   "metadata": {},
   "outputs": [
    {
     "data": {
      "application/vnd.jupyter.widget-view+json": {
       "model_id": "",
       "version_major": 2,
       "version_minor": 0
      },
      "text/plain": [
       "FloatProgress(value=0.0, bar_style='info', description='Progress:', layout=Layout(height='25px', width='50%'),…"
      ]
     },
     "metadata": {},
     "output_type": "display_data"
    },
    {
     "name": "stdout",
     "output_type": "stream",
     "text": [
      "+-----------+----------+---------+---+------+------+\n",
      "|employee_id|first_name|last_name|age|  city|salary|\n",
      "+-----------+----------+---------+---+------+------+\n",
      "|       1013|   William|    Moore| 37|Denver|  3998|\n",
      "|       1018| Frederick|   Wilson| 38|Denver|  4500|\n",
      "|       1022|     Ellis|      Dow| 40|Denver|  4250|\n",
      "+-----------+----------+---------+---+------+------+"
     ]
    }
   ],
   "source": [
    "dyf4 = glueContext.create_dynamic_frame.from_catalog(\n",
    "    database = database_name, \n",
    "    table_name = table_name, \n",
    "    transformation_ctx = \"dyf4\", \n",
    "    additional_options = {\n",
    "        \"transactionId\": tcampId3\n",
    "    }\n",
    ")\n",
    "df6 = dyf4.toDF()\n",
    "df7 = df6.select('employee_id','first_name','last_name','age','city','salary')\n",
    "df7.where(\"city == 'Denver'\").show()"
   ]
  },
  {
   "cell_type": "markdown",
   "id": "976f35e6",
   "metadata": {},
   "source": [
    "### Data Analyst commit transaction (tcampId3)"
   ]
  },
  {
   "cell_type": "code",
   "execution_count": 11,
   "id": "3b9365ac",
   "metadata": {},
   "outputs": [
    {
     "data": {
      "application/vnd.jupyter.widget-view+json": {
       "model_id": "",
       "version_major": 2,
       "version_minor": 0
      },
      "text/plain": [
       "FloatProgress(value=0.0, bar_style='info', description='Progress:', layout=Layout(height='25px', width='50%'),…"
      ]
     },
     "metadata": {},
     "output_type": "display_data"
    },
    {
     "name": "stdout",
     "output_type": "stream",
     "text": [
      "JavaObject id=o157"
     ]
    }
   ],
   "source": [
    "glueContext.commit_transaction(tcampId3)"
   ]
  },
  {
   "cell_type": "markdown",
   "id": "05f99962",
   "metadata": {},
   "source": [
    "### Data Analyst begin transaction (tcampId4)"
   ]
  },
  {
   "cell_type": "code",
   "execution_count": 12,
   "id": "d2a8a13c",
   "metadata": {},
   "outputs": [
    {
     "data": {
      "application/vnd.jupyter.widget-view+json": {
       "model_id": "",
       "version_major": 2,
       "version_minor": 0
      },
      "text/plain": [
       "FloatProgress(value=0.0, bar_style='info', description='Progress:', layout=Layout(height='25px', width='50%'),…"
      ]
     },
     "metadata": {},
     "output_type": "display_data"
    },
    {
     "name": "stdout",
     "output_type": "stream",
     "text": [
      "cd90166c6b7842dfbf08639437c07f0e"
     ]
    }
   ],
   "source": [
    "tcampId4 = glueContext.begin_transaction(read_only=False)\n",
    "print(tcampId4)"
   ]
  },
  {
   "cell_type": "markdown",
   "id": "d176f132",
   "metadata": {},
   "source": [
    "### Find employees from Denver after DB Admin commits Transaction (txId2)"
   ]
  },
  {
   "cell_type": "code",
   "execution_count": 13,
   "id": "0a9b9396",
   "metadata": {},
   "outputs": [
    {
     "data": {
      "application/vnd.jupyter.widget-view+json": {
       "model_id": "",
       "version_major": 2,
       "version_minor": 0
      },
      "text/plain": [
       "FloatProgress(value=0.0, bar_style='info', description='Progress:', layout=Layout(height='25px', width='50%'),…"
      ]
     },
     "metadata": {},
     "output_type": "display_data"
    },
    {
     "name": "stdout",
     "output_type": "stream",
     "text": [
      "+-----------+----------+---------+---+------+------+\n",
      "|employee_id|first_name|last_name|age|  city|salary|\n",
      "+-----------+----------+---------+---+------+------+\n",
      "|       1013|   William|    Moore| 37|Denver|  3998|\n",
      "|       1018| Frederick|   Wilson| 38|Denver|  4500|\n",
      "|       1022|     Ellis|      Dow| 40|Denver|  4250|\n",
      "|       1024|     Megan|    Sisco| 39|Denver|  4320|\n",
      "+-----------+----------+---------+---+------+------+"
     ]
    }
   ],
   "source": [
    "dyf5 = glueContext.create_dynamic_frame.from_catalog(\n",
    "    database = database_name, \n",
    "    table_name = table_name, \n",
    "    transformation_ctx = \"dyf5\", \n",
    "    additional_options = {\n",
    "        \"transactionId\": tcampId4\n",
    "    }\n",
    ")\n",
    "df8 = dyf5.toDF()\n",
    "df9 = df8.select('employee_id','first_name','last_name','age','city','salary')\n",
    "df9.where(\"city == 'Denver'\").show()"
   ]
  },
  {
   "cell_type": "markdown",
   "id": "31a9251b",
   "metadata": {},
   "source": [
    "### Data Analyst commit transaction (tcampId3)"
   ]
  },
  {
   "cell_type": "code",
   "execution_count": 14,
   "id": "6b074443",
   "metadata": {},
   "outputs": [
    {
     "data": {
      "application/vnd.jupyter.widget-view+json": {
       "model_id": "",
       "version_major": 2,
       "version_minor": 0
      },
      "text/plain": [
       "FloatProgress(value=0.0, bar_style='info', description='Progress:', layout=Layout(height='25px', width='50%'),…"
      ]
     },
     "metadata": {},
     "output_type": "display_data"
    },
    {
     "name": "stdout",
     "output_type": "stream",
     "text": [
      "JavaObject id=o174"
     ]
    }
   ],
   "source": [
    "glueContext.commit_transaction(tcampId4)"
   ]
  },
  {
   "cell_type": "markdown",
   "id": "3d8ba7e6",
   "metadata": {},
   "source": [
    "### Time Travel query example"
   ]
  },
  {
   "cell_type": "code",
   "execution_count": 15,
   "id": "74e59425",
   "metadata": {},
   "outputs": [
    {
     "data": {
      "application/vnd.jupyter.widget-view+json": {
       "model_id": "",
       "version_major": 2,
       "version_minor": 0
      },
      "text/plain": [
       "FloatProgress(value=0.0, bar_style='info', description='Progress:', layout=Layout(height='25px', width='50%'),…"
      ]
     },
     "metadata": {},
     "output_type": "display_data"
    },
    {
     "name": "stdout",
     "output_type": "stream",
     "text": [
      "+-----------+----------+---------+---+------+------+\n",
      "|employee_id|first_name|last_name|age|  city|salary|\n",
      "+-----------+----------+---------+---+------+------+\n",
      "|       1013|   William|    Moore| 37|Denver|  3998|\n",
      "|       1018| Frederick|   Wilson| 38|Denver|  4500|\n",
      "|       1022|     Ellis|      Dow| 40|Denver|  4250|\n",
      "+-----------+----------+---------+---+------+------+"
     ]
    }
   ],
   "source": [
    "dyf6 = glueContext.create_dynamic_frame.from_catalog(\n",
    "    database = database_name, \n",
    "    table_name = table_name, \n",
    "    transformation_ctx = \"dyf6\", \n",
    "    additional_options = {\n",
    "        \"asOfTime\": \"2021-09-15 05:59:38\"\n",
    "    }\n",
    ")\n",
    "df10 = dyf6.toDF()\n",
    "df11 = df10.select('employee_id','first_name','last_name','age','city','salary')\n",
    "df11.where(\"city == 'Denver'\").show()"
   ]
  },
  {
   "cell_type": "code",
   "execution_count": null,
   "id": "bd8046cc",
   "metadata": {},
   "outputs": [],
   "source": []
  }
 ],
 "metadata": {
  "kernelspec": {
   "display_name": "Sparkmagic (PySpark)",
   "language": "python",
   "name": "pysparkkernel"
  },
  "language_info": {
   "codemirror_mode": {
    "name": "python",
    "version": 3
   },
   "file_extension": ".py",
   "mimetype": "text/x-python",
   "name": "pyspark",
   "pygments_lexer": "python3"
  }
 },
 "nbformat": 4,
 "nbformat_minor": 5
}
